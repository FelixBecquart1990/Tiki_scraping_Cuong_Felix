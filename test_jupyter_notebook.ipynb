{
 "cells": [
  {
   "cell_type": "code",
   "execution_count": 1,
   "metadata": {},
   "outputs": [],
   "source": [
    "# get all the code from this page 'https://tiki.vn/dien-thoai-may-tinh-bang/'\n",
    "import requests\n",
    "try:\n",
    "    BASE_URL = 'https://tiki.vn/dien-thoai-may-tinh-bang/'\n",
    "    response = requests.get(BASE_URL)\n",
    "except Exception as err:\n",
    "    print(f'ERROR: {err}')"
   ]
  },
  {
   "cell_type": "code",
   "execution_count": 2,
   "metadata": {},
   "outputs": [
    {
     "name": "stdout",
     "output_type": "stream",
     "text": [
      "<!DOCTYPE html>\n",
      "<html class=\"no-js\" lang=\"\">\n",
      " <head>\n",
      "  <style>\n",
      "   html { background: #f4f4f4; } .async-hide body { opacity: 0 !important}\n",
      "  </style>\n",
      "  <script>\n",
      "   (function(a,s,y,n,c,h,i,d,e){s.className+=' '+y;h.start=1*new Date;\n",
      "    h.end=i=function(){s.className=s.className.replace(RegExp(' ?'+y),'')};\n",
      "    (a[n]=a[n]||[]).hide=h;setTimeout(function(){i();h.end=null},c);h.timeout=c;\n",
      "    })(window,document.documentElement,'async-hide','dataLayer',1500,\n",
      "    {'GTM-53B3KKW':true});\n",
      "  </script>\n",
      "  <\n"
     ]
    }
   ],
   "source": [
    "# use BeautifulSoup library to help to analyse the code by tags to get the data\n",
    "from bs4 import BeautifulSoup\n",
    "\n",
    "soup = BeautifulSoup(response.text)\n",
    "print(soup.prettify()[:500])"
   ]
  },
  {
   "cell_type": "code",
   "execution_count": 3,
   "metadata": {},
   "outputs": [
    {
     "data": {
      "text/plain": [
       "50"
      ]
     },
     "execution_count": 3,
     "metadata": {},
     "output_type": "execute_result"
    }
   ],
   "source": [
    "# get the list of the products\n",
    "products = soup.find_all('div', class_='product-item')\n",
    "len(products)"
   ]
  }
 ],
 "metadata": {
  "kernelspec": {
   "display_name": "Python 3",
   "language": "python",
   "name": "python3"
  },
  "language_info": {
   "codemirror_mode": {
    "name": "ipython",
    "version": 3
   },
   "file_extension": ".py",
   "mimetype": "text/x-python",
   "name": "python",
   "nbconvert_exporter": "python",
   "pygments_lexer": "ipython3",
   "version": "3.7.3"
  }
 },
 "nbformat": 4,
 "nbformat_minor": 2
}
