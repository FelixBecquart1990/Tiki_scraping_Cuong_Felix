{
 "cells": [
  {
   "cell_type": "code",
   "execution_count": 1,
   "metadata": {},
   "outputs": [],
   "source": [
    "from bs4 import BeautifulSoup\n",
    "import requests\n",
    "import psycopg2\n",
    "from collections import deque\n",
    "conn = psycopg2.connect(user=\"PhaCu\",\n",
    "                        password =\"0983672100\",\n",
    "                        port=\"5432\",\n",
    "                        database=\"tiki\")\n",
    "conn.autocommit = True\n",
    "cur = conn.cursor()\n"
   ]
  },
  {
   "cell_type": "code",
   "execution_count": 2,
   "metadata": {},
   "outputs": [],
   "source": [
    "\n",
    "def create_products_table():\n",
    "    query = \"\"\"\n",
    "        CREATE TABLE IF NOT EXISTS products(\n",
    "        pro_id VARCHAR(20),\n",
    "        title VARCHAR (225),\n",
    "        pro_url TEXT,\n",
    "        cat_id VARCHAR(20),\n",
    "        image_url TEXT,\n",
    "        brand VARCHAR(300),\n",
    "        review VARCHAR(20),\n",
    "        tikinow INT,\n",
    "        fin_price VARCHAR(50),\n",
    "        old_price VARCHAR(50),\n",
    "        discount VARCHAR(5)); \"\"\"\n",
    "    try:\n",
    "        cur.execute(query)\n",
    "    except Exception as err:\n",
    "        print(f'ERROR: {err}')\n",
    "create_products_table()"
   ]
  },
  {
   "cell_type": "code",
   "execution_count": 3,
   "metadata": {},
   "outputs": [],
   "source": [
    "class Products:\n",
    "    def __init__(self, pro_id, title, pro_url,cat_id, image_url, brand, review, tikinow, fin_price, old_price, discount):\n",
    "        self.pro_id =       pro_id\n",
    "        self.title=         title\n",
    "        self.pro_url=       pro_url\n",
    "        self.cat_id=        cat_id\n",
    "        self.image_url=     image_url\n",
    "        self.brand=         brand\n",
    "        self.review=        review\n",
    "        self.tikinow=       tikinow\n",
    "        self.fin_price=     fin_price\n",
    "        self.old_price=     old_price\n",
    "        self.discount=      discount\n",
    "    def insert_product(self):\n",
    "        query = f\"\"\"INSERT INTO products(pro_id,title,pro_url ,cat_id ,image_url ,brand,review,tikinow ,fin_price ,old_price ,discount)\n",
    "                    VALUES('{self.pro_id }','{self.title}','{self.pro_url}','{self.cat_id}','{self.image_url}','{self.brand}','{self.review}','{self.tikinow}','{self.fin_price}','{self.old_price}','{self.discount}');\"\"\"\n",
    "        \n",
    "        try:\n",
    "            cur.execute(query)\n",
    "        except Exception as err:\n",
    "            print(f'ERROR: {err}')\n",
    "        conn.commit()\n",
    "    def __repr__(self):\n",
    "        return f'product: {self.title}, cat_id: {self.cat_id}, Price: {self.fin_price}'"
   ]
  },
  {
   "cell_type": "code",
   "execution_count": 7,
   "metadata": {},
   "outputs": [],
   "source": [
    "query = \"\"\"\n",
    "        SELECT cp.parent_id, cp.name, cp.url, id as child_id FROM cat_parents as cp\n",
    "         LEFT JOIN categories as c on cp.parent_id = c.parent_id\n",
    "         WHERE id is null\n",
    "        ; \"\"\"\n",
    "cur.execute(query)\n",
    "cat=cur.fetchall()"
   ]
  },
  {
   "cell_type": "code",
   "execution_count": 8,
   "metadata": {},
   "outputs": [],
   "source": [
    "def load_deepest(url):\n",
    "    try:\n",
    "        response = requests.get(url).text\n",
    "        return BeautifulSoup(response,\"html.parser\")\n",
    "    except Exception as err:\n",
    "        print(f'ERROR: {err}')"
   ]
  },
  {
   "cell_type": "code",
   "execution_count": null,
   "metadata": {},
   "outputs": [],
   "source": [
    "for i in range(len(cat)):  \n",
    "    k=1\n",
    "    l=0\n",
    "    while l == 0:\n",
    "        url=f'{cat[i][2]}&page={k}'\n",
    "        k=k+1\n",
    "        try:\n",
    "            eyes=load_deepest(url).find_all('div', {\"class\":'product-item'})\n",
    "        except Exception as err:\n",
    "            print(f'ERROR:')\n",
    "        if load_deepest(url) is None:\n",
    "            l=1\n",
    "        elif load_deepest(url).find('div', class_='product-box-list').find('div', class_='product-item') is None:\n",
    "            l=1\n",
    "        else:\n",
    "            for j in range (len(eyes)):\n",
    "                proid=eyes[j]['data-id']\n",
    "                title=eyes[j]['data-title']\n",
    "                brand=eyes[j]['data-brand']\n",
    "                prourl=eyes[j].a['href']\n",
    "                catid=cat[i][0]\n",
    "                imageurl=eyes[j].img['src']\n",
    "                if eyes[j].find('span', class_='rating-content') is None:\n",
    "                    review = 'No Rating'\n",
    "                else:\n",
    "                    review=eyes[j].find('span', class_='rating-content').find('span')['style'].strip('width:').rstrip('%')\n",
    "                if eyes[j].find('i',class_=\"tikicon icon-tikinow\") is None:\n",
    "                    tikinow = 0\n",
    "                else:\n",
    "                    tikinow = 1\n",
    "                finprice = eyes[j].find('span', class_='final-price').text.strip().split()[0]\n",
    "                oldprice = eyes[j].find('span', class_='price-regular').text.strip()\n",
    "                discount = eyes[j].find('span',class_=\"sale-tag sale-tag-square\").text\n",
    "                product  = Products(proid,title,prourl,catid,imageurl,brand,review,tikinow,finprice,oldprice,discount)\n",
    "                product.insert_product()\n",
    "        conn.commit()\n",
    "\n"
   ]
  }
 ],
 "metadata": {
  "kernelspec": {
   "display_name": "Python 3",
   "language": "python",
   "name": "python3"
  },
  "language_info": {
   "codemirror_mode": {
    "name": "ipython",
    "version": 3
   },
   "file_extension": ".py",
   "mimetype": "text/x-python",
   "name": "python",
   "nbconvert_exporter": "python",
   "pygments_lexer": "ipython3",
   "version": "3.7.4"
  }
 },
 "nbformat": 4,
 "nbformat_minor": 4
}
